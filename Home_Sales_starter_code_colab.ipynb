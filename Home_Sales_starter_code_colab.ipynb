{
  "cells": [
    {
      "cell_type": "markdown",
      "metadata": {
        "colab_type": "text",
        "id": "view-in-github"
      },
      "source": [
        "<a href=\"https://colab.research.google.com/github/Ao-27/Home_Sales_Mod22_BigData/blob/main/Home_Sales_starter_code_colab.ipynb\" target=\"_parent\"><img src=\"https://colab.research.google.com/assets/colab-badge.svg\" alt=\"Open In Colab\"/></a>"
      ]
    },
    {
      "cell_type": "code",
      "execution_count": 45,
      "metadata": {
        "colab": {
          "base_uri": "https://localhost:8080/"
        },
        "id": "a_KW73O2e3dw",
        "outputId": "fe423b6e-fdf4-4195-b595-444acba0d78d"
      },
      "outputs": [
        {
          "name": "stdout",
          "output_type": "stream",
          "text": [
            "Hit:1 https://developer.download.nvidia.com/compute/cuda/repos/ubuntu2204/x86_64  InRelease\n",
            "Hit:2 https://cloud.r-project.org/bin/linux/ubuntu jammy-cran40/ InRelease\n",
            "Hit:3 http://archive.ubuntu.com/ubuntu jammy InRelease\n",
            "Hit:4 http://security.ubuntu.com/ubuntu jammy-security InRelease\n",
            "Hit:5 http://archive.ubuntu.com/ubuntu jammy-updates InRelease\n",
            "Hit:6 http://archive.ubuntu.com/ubuntu jammy-backports InRelease\n",
            "Hit:7 https://ppa.launchpadcontent.net/c2d4u.team/c2d4u4.0+/ubuntu jammy InRelease\n",
            "Hit:8 https://ppa.launchpadcontent.net/deadsnakes/ppa/ubuntu jammy InRelease\n",
            "Hit:9 https://ppa.launchpadcontent.net/graphics-drivers/ppa/ubuntu jammy InRelease\n",
            "Hit:10 https://ppa.launchpadcontent.net/ubuntugis/ppa/ubuntu jammy InRelease\n",
            "Reading package lists... Done\n"
          ]
        }
      ],
      "source": [
        "import os\n",
        "# Find the latest version of spark 3.x  from http://www.apache.org/dist/spark/ and enter as the spark version\n",
        "# For example:\n",
        "# spark_version = 'spark-3.4.0'\n",
        "\n",
        "#export PYTHONPATH=$SPARK_HOME/python/:$PYTHONPATH #this didn't work ... but I can't remember the url it came from.\n",
        "#export PYTHONPATH=$SPARK_HOME/python/lib/py4j-0.8.2.1-src.zip:$PYTHONPATH\n",
        "\n",
        "spark_version = 'spark-3.4.0'\n",
        "os.environ['SPARK_VERSION']=spark_version\n",
        "\n",
        "\n",
        "  #fixed below via url => https://stackoverflow.com/questions/55240940/error-while-installing-spark-on-google-colab\n",
        "  #Needed to point to the archive url as noted on stackoverflow ...\n",
        "\n",
        "# Install Spark and Java\n",
        "!apt-get update\n",
        "\n",
        "# innstall java\n",
        "!apt-get install openjdk-11-jdk-headless -qq > /dev/null\n",
        "\n",
        "# install spark (change the version number if needed)\n",
        "!wget -q https://archive.apache.org/dist/spark/$SPARK_VERSION/$SPARK_VERSION-bin-hadoop3.tgz\n",
        "\n",
        "# unzip the spark file to the current folder\n",
        "!tar xf $SPARK_VERSION-bin-hadoop3.tgz #3.2 ... possibly ...\n",
        "\n",
        "# set your spark folder to your system path environment.\n",
        "  # Set Environment Variables\n",
        "\n",
        "os.environ[\"JAVA_HOME\"] = \"/usr/lib/jvm/java-11-openjdk-amd64\"\n",
        "os.environ[\"SPARK_HOME\"] = f\"/content/{spark_version}-bin-hadoop3\"\n",
        "\n",
        "\n",
        "# install findspark using pip\n",
        "!pip install -q findspark\n",
        "\n",
        "# Start a SparkSession\n",
        "import findspark\n",
        "findspark.init()"
      ]
    },
    {
      "cell_type": "code",
      "execution_count": 46,
      "metadata": {
        "id": "2XbWNf1Te5fM"
      },
      "outputs": [],
      "source": [
        "# Import packages\n",
        "from pyspark.sql import SparkSession\n",
        "import time\n",
        "\n",
        "# Create a SparkSession\n",
        "spark = SparkSession.builder.appName(\"SparkSQL\").getOrCreate()"
      ]
    },
    {
      "cell_type": "code",
      "execution_count": 47,
      "metadata": {
        "id": "wOJqxG_RPSwp"
      },
      "outputs": [],
      "source": [
        "# 1. Read in the AWS S3 bucket into a DataFrame.\n",
        "from pyspark import SparkFiles\n",
        "url = \"https://2u-data-curriculum-team.s3.amazonaws.com/dataviz-classroom/v1.2/22-big-data/home_sales_revised.csv\"\n",
        "\n"
      ]
    },
    {
      "cell_type": "code",
      "execution_count": 48,
      "metadata": {
        "colab": {
          "base_uri": "https://localhost:8080/"
        },
        "id": "YmqQa7wkrNHE",
        "outputId": "ef769a15-624c-4221-a162-4ce57fd2c400"
      },
      "outputs": [
        {
          "name": "stdout",
          "output_type": "stream",
          "text": [
            "+--------------------+----------+----------+------+--------+---------+-----------+--------+------+----------+----+\n",
            "|                  id|      date|date_built| price|bedrooms|bathrooms|sqft_living|sqft_lot|floors|waterfront|view|\n",
            "+--------------------+----------+----------+------+--------+---------+-----------+--------+------+----------+----+\n",
            "|f8a53099-ba1c-47d...|2022-04-08|      2016|936923|       4|        3|       3167|   11733|     2|         1|  76|\n",
            "|7530a2d8-1ae3-451...|2021-06-13|      2013|379628|       2|        2|       2235|   14384|     1|         0|  23|\n",
            "|43de979c-0bf0-4c9...|2019-04-12|      2014|417866|       2|        2|       2127|   10575|     2|         0|   0|\n",
            "|b672c137-b88c-48b...|2019-10-16|      2016|239895|       2|        2|       1631|   11149|     2|         0|   0|\n",
            "|e0726d4d-d595-407...|2022-01-08|      2017|424418|       3|        2|       2249|   13878|     2|         0|   4|\n",
            "|5aa00529-0533-46b...|2019-01-30|      2017|218712|       2|        3|       1965|   14375|     2|         0|   7|\n",
            "|131492a1-72e2-4a8...|2020-02-08|      2017|419199|       2|        3|       2062|    8876|     2|         0|   6|\n",
            "|8d54a71b-c520-44e...|2019-07-21|      2010|323956|       2|        3|       1506|   11816|     1|         0|  25|\n",
            "|e81aacfe-17fe-46b...|2020-06-16|      2016|181925|       3|        3|       2137|   11709|     2|         0|  22|\n",
            "|2ed8d509-7372-46d...|2021-08-06|      2015|258710|       3|        3|       1918|    9666|     1|         0|  25|\n",
            "|f876d86f-3c9f-42b...|2019-02-27|      2011|167864|       3|        3|       2471|   13924|     2|         0|  15|\n",
            "|0a2bd445-8508-4d8...|2021-12-30|      2014|337527|       2|        3|       1926|   12556|     1|         0|  23|\n",
            "|941bad30-eb49-4a7...|2020-05-09|      2015|229896|       3|        3|       2197|    8641|     1|         0|   3|\n",
            "|dd61eb34-6589-4c0...|2021-07-25|      2016|210247|       3|        2|       1672|   11986|     2|         0|  28|\n",
            "|f1e4cef7-d151-439...|2019-02-01|      2011|398667|       2|        3|       2331|   11356|     1|         0|   7|\n",
            "|ea620c7b-c2f7-4c6...|2021-05-31|      2011|437958|       3|        3|       2356|   11052|     1|         0|  26|\n",
            "|f233cb41-6f33-4b0...|2021-07-18|      2016|437375|       4|        3|       1704|   11721|     2|         0|  34|\n",
            "|c797ca12-52cd-4b1...|2019-06-08|      2015|288650|       2|        3|       2100|   10419|     2|         0|   7|\n",
            "|0cfe57f3-28c2-472...|2019-10-04|      2015|308313|       3|        3|       1960|    9453|     2|         0|   2|\n",
            "|4566cd2a-ac6e-435...|2019-07-15|      2016|177541|       3|        3|       2130|   10517|     2|         0|  25|\n",
            "+--------------------+----------+----------+------+--------+---------+-----------+--------+------+----------+----+\n",
            "only showing top 20 rows\n",
            "\n"
          ]
        }
      ],
      "source": [
        "#Create DF via url access.\n",
        "\n",
        "spark.sparkContext.addFile(url)\n",
        "home_sales_df = spark.read.csv(SparkFiles.get(\"home_sales_revised.csv\"), inferSchema=True, header=True)\n",
        "home_sales_df.show()"
      ]
    },
    {
      "cell_type": "code",
      "execution_count": 49,
      "metadata": {
        "id": "RoljcJ7WPpnm"
      },
      "outputs": [],
      "source": [
        "# 2. Create a temporary view of the DataFrame.\n",
        "\n",
        "Temp_view1 = home_sales_df.createOrReplaceTempView(\"home_sales\")\n",
        "Temp_view1"
      ]
    },
    {
      "cell_type": "code",
      "execution_count": 50,
      "metadata": {
        "colab": {
          "base_uri": "https://localhost:8080/"
        },
        "id": "L6fkwOeOmqvq",
        "outputId": "88cd6541-f2ca-4ee1-c727-3cb08d175d51"
      },
      "outputs": [
        {
          "name": "stdout",
          "output_type": "stream",
          "text": [
            "+----------+---------------+\n",
            "|year(date)|avg_4bdrm_price|\n",
            "+----------+---------------+\n",
            "|      2022|      296363.88|\n",
            "|      2019|       300263.7|\n",
            "|      2020|      298353.78|\n",
            "|      2021|      301819.44|\n",
            "+----------+---------------+\n",
            "\n"
          ]
        }
      ],
      "source": [
        "# 3. What is the average price for a four bedroom house sold in each year rounded to two decimal places?\n",
        "\n",
        "query1 = spark.sql(\"\"\"\n",
        "SELECT YEAR(date),\n",
        "ROUND(AVG(price),2) AS avg_4bdrm_price\n",
        "\n",
        "FROM\n",
        "home_sales\n",
        "\n",
        "WHERE\n",
        "bedrooms = 4\n",
        "\n",
        "GROUP BY YEAR(date);\"\"\").show()\n",
        "\n",
        "query1"
      ]
    },
    {
      "cell_type": "code",
      "execution_count": 51,
      "metadata": {
        "colab": {
          "base_uri": "https://localhost:8080/"
        },
        "id": "l8p_tUS8h8it",
        "outputId": "35643dfc-0814-43aa-f966-2f3dfa0746a3"
      },
      "outputs": [
        {
          "name": "stdout",
          "output_type": "stream",
          "text": [
            "+----------+--------------------+\n",
            "|date_built|avg_3bdrm3bath_price|\n",
            "+----------+--------------------+\n",
            "|      2015|            288770.3|\n",
            "|      2013|           295962.27|\n",
            "|      2014|           290852.27|\n",
            "|      2012|           293683.19|\n",
            "|      2016|           290555.07|\n",
            "|      2010|           292859.62|\n",
            "|      2011|           291117.47|\n",
            "|      2017|           292676.79|\n",
            "+----------+--------------------+\n",
            "\n"
          ]
        }
      ],
      "source": [
        "# 4. What is the average price of a home for each year the home was built that have 3 bedrooms and 3 bathrooms rounded to two decimal places?\n",
        "\n",
        "query2 = spark.sql(\"\"\"\n",
        "SELECT date_built,\n",
        "ROUND(AVG(price),2) AS avg_3bdrm3bath_price\n",
        "\n",
        "FROM\n",
        "home_sales\n",
        "\n",
        "WHERE\n",
        "bedrooms = 3\n",
        "AND\n",
        "bathrooms = 3\n",
        "\n",
        "GROUP BY date_built;\"\"\").show()\n",
        "\n",
        "query2\n"
      ]
    },
    {
      "cell_type": "code",
      "execution_count": 52,
      "metadata": {
        "colab": {
          "base_uri": "https://localhost:8080/"
        },
        "id": "Y-Eytz64liDU",
        "outputId": "55d0fd00-0aae-4522-f73a-1f1aa704f89b"
      },
      "outputs": [
        {
          "name": "stdout",
          "output_type": "stream",
          "text": [
            "+----------+----------------------+\n",
            "|date_built|avg_homeprice_2000sqft|\n",
            "+----------+----------------------+\n",
            "|      2015|             297609.97|\n",
            "|      2013|             303676.79|\n",
            "|      2014|             298264.72|\n",
            "|      2012|             307539.97|\n",
            "|      2016|              293965.1|\n",
            "|      2010|             285010.22|\n",
            "|      2011|             276553.81|\n",
            "|      2017|             280317.58|\n",
            "+----------+----------------------+\n",
            "\n"
          ]
        }
      ],
      "source": [
        "# 5. What is the average price of a home for each year built that have 3 bedrooms, 3 bathrooms, with two floors,\n",
        "# and are greater than or equal to 2,000 square feet rounded to two decimal places?\n",
        "query3 = spark.sql(\"\"\"\n",
        "SELECT date_built,\n",
        "ROUND(AVG(price),2) AS avg_homeprice_2000sqft\n",
        "\n",
        "FROM\n",
        "home_sales\n",
        "\n",
        "WHERE\n",
        "bedrooms = 3\n",
        "AND\n",
        "bathrooms = 3\n",
        "AND\n",
        "floors = 2\n",
        "AND\n",
        "sqft_living >= 2000\n",
        "\n",
        "GROUP BY date_built;\"\"\").show()\n",
        "\n",
        "query3"
      ]
    },
    {
      "cell_type": "code",
      "execution_count": 53,
      "metadata": {
        "colab": {
          "base_uri": "https://localhost:8080/"
        },
        "id": "GUrfgOX1pCRd",
        "outputId": "63b6cbbc-6183-4a36-f668-6c99cb533123"
      },
      "outputs": [
        {
          "name": "stdout",
          "output_type": "stream",
          "text": [
            "+----+--------------------------+\n",
            "|view|avg_homeprice_above_350000|\n",
            "+----+--------------------------+\n",
            "|  85|                1056336.74|\n",
            "|  65|                 736679.93|\n",
            "|  53|                  755214.8|\n",
            "|  78|                1080649.37|\n",
            "|  81|                1053472.79|\n",
            "|  76|                1058802.78|\n",
            "|  91|                1137372.73|\n",
            "|  93|                1026006.06|\n",
            "|  52|                 733780.26|\n",
            "|  86|                1070444.25|\n",
            "|  94|                 1033536.2|\n",
            "|  57|                  734340.5|\n",
            "|  54|                 798684.82|\n",
            "|  96|                1017815.92|\n",
            "|  92|                 970402.55|\n",
            "|  64|                 767036.67|\n",
            "|  61|                 746877.59|\n",
            "|  88|                1031719.35|\n",
            "|  72|                 780914.67|\n",
            "|  59|                  791453.0|\n",
            "+----+--------------------------+\n",
            "only showing top 20 rows\n",
            "\n",
            "--- 0.6655106544494629 seconds ---\n"
          ]
        }
      ],
      "source": [
        "# 6. What is the \"view\" rating for the average price of a home, rounded to two decimal places, where the homes are greater than\n",
        "# or equal to $350,000? Although this is a small dataset, determine the run time for this query.\n",
        "\n",
        "start_time = time.time()\n",
        "\n",
        "query4 = spark.sql(\"\"\"\n",
        "SELECT view,\n",
        "ROUND(AVG(price),2) AS avg_homeprice_above_350000\n",
        "\n",
        "FROM\n",
        "home_sales\n",
        "\n",
        "GROUP BY\n",
        "view\n",
        "\n",
        "HAVING\n",
        "ROUND(AVG(price),2) >= 350000;\"\"\").show()\n",
        "\n",
        "timer1 = print(\"--- %s seconds ---\" % (time.time() - start_time)) #took 0.6655 seconds ...\n",
        "\n",
        "timer1\n",
        "query4"
      ]
    },
    {
      "cell_type": "code",
      "execution_count": 54,
      "metadata": {
        "colab": {
          "base_uri": "https://localhost:8080/"
        },
        "id": "KAhk3ZD2tFy8",
        "outputId": "7645c5e1-1d03-4bb5-fa1f-a47e8c80fb01"
      },
      "outputs": [
        {
          "data": {
            "text/plain": [
              "DataFrame[]"
            ]
          },
          "execution_count": 54,
          "metadata": {},
          "output_type": "execute_result"
        }
      ],
      "source": [
        "# 7. Cache the the temporary table home_sales.\n",
        "cache_temp_view = spark.sql(\"cache table home_sales\")\n",
        "cache_temp_view"
      ]
    },
    {
      "cell_type": "code",
      "execution_count": 55,
      "metadata": {
        "colab": {
          "base_uri": "https://localhost:8080/"
        },
        "id": "4opVhbvxtL-i",
        "outputId": "df6c03de-7095-411d-f3c4-65a31d2658fd"
      },
      "outputs": [
        {
          "data": {
            "text/plain": [
              "True"
            ]
          },
          "execution_count": 55,
          "metadata": {},
          "output_type": "execute_result"
        }
      ],
      "source": [
        "# 8. Check if the table is cached.\n",
        "\n",
        "cache_sanchk = spark.catalog.isCached('home_sales')\n",
        "\n",
        "cache_sanchk"
      ]
    },
    {
      "cell_type": "code",
      "execution_count": 56,
      "metadata": {
        "colab": {
          "base_uri": "https://localhost:8080/"
        },
        "id": "5GnL46lwTSEk",
        "outputId": "9dbea90a-3f36-42ac-ccad-c76610b1f577"
      },
      "outputs": [
        {
          "name": "stdout",
          "output_type": "stream",
          "text": [
            "+----+--------------------------+\n",
            "|view|avg_homeprice_above_350000|\n",
            "+----+--------------------------+\n",
            "|  85|                1056336.74|\n",
            "|  65|                 736679.93|\n",
            "|  53|                  755214.8|\n",
            "|  78|                1080649.37|\n",
            "|  81|                1053472.79|\n",
            "|  76|                1058802.78|\n",
            "|  91|                1137372.73|\n",
            "|  93|                1026006.06|\n",
            "|  52|                 733780.26|\n",
            "|  86|                1070444.25|\n",
            "|  94|                 1033536.2|\n",
            "|  57|                  734340.5|\n",
            "|  54|                 798684.82|\n",
            "|  96|                1017815.92|\n",
            "|  92|                 970402.55|\n",
            "|  64|                 767036.67|\n",
            "|  61|                 746877.59|\n",
            "|  88|                1031719.35|\n",
            "|  72|                 780914.67|\n",
            "|  59|                  791453.0|\n",
            "+----+--------------------------+\n",
            "only showing top 20 rows\n",
            "\n",
            "--- 0.2178046703338623 seconds ---\n"
          ]
        }
      ],
      "source": [
        "# 9. Using the cached data, run the query that filters out the view ratings with average price\n",
        "#  greater than or equal to $350,000. Determine the runtime and compare it to uncached runtime. => The cached data performed the query significantly faster. 0.6655 / 0.2178 = 3.05 ... it was 3 times faster.\n",
        "\n",
        "start_time = time.time()\n",
        "\n",
        "query5_c = spark.sql(\"\"\"\n",
        "SELECT view,\n",
        "ROUND(AVG(price),2) AS avg_homeprice_above_350000\n",
        "\n",
        "FROM\n",
        "home_sales\n",
        "\n",
        "GROUP BY\n",
        "view\n",
        "\n",
        "HAVING\n",
        "ROUND(AVG(price),2) >= 350000;\"\"\").show()\n",
        "\n",
        "timer2 = print(\"--- %s seconds ---\" % (time.time() - start_time)) #took 0.2178 seconds ... The cached data performed the query significantly faster. 0.6655 / 0.2178 = 3.05 ... it was 3 times faster.\n",
        "\n",
        "timer2\n",
        "query5_c"
      ]
    },
    {
      "cell_type": "code",
      "execution_count": null,
      "metadata": {
        "id": "rJCth2SYy5F3"
      },
      "outputs": [],
      "source": [
        "#My answer isn't legible in GitHub.\n",
        "\n",
        "# Determine the runtime and compare it to the cached version.\n",
        "# => The cached data performed the query significantly faster. 0.6655 / 0.2178 = 3.05 ... it was 3 times faster which is significant depending on the size of the dataset."
      ]
    },
    {
      "cell_type": "code",
      "execution_count": 57,
      "metadata": {
        "id": "Qm12WN9isHBR"
      },
      "outputs": [],
      "source": [
        "# 10. Partition by the \"date_built\" field on the formatted parquet home sales data\n",
        "\n",
        "parquet1 = home_sales_df.write.partitionBy(\"date_built\").mode(\"overwrite\").parquet(\"home_sales_partitioned\")\n",
        "\n",
        "parquet1\n"
      ]
    },
    {
      "cell_type": "code",
      "execution_count": 58,
      "metadata": {
        "colab": {
          "base_uri": "https://localhost:8080/"
        },
        "id": "AZ7BgY61sRqY",
        "outputId": "34f9f111-d8b6-4193-e63d-125f262e66b2"
      },
      "outputs": [
        {
          "data": {
            "text/plain": [
              "DataFrame[id: string, date: date, price: int, bedrooms: int, bathrooms: int, sqft_living: int, sqft_lot: int, floors: int, waterfront: int, view: int, date_built: int]"
            ]
          },
          "execution_count": 58,
          "metadata": {},
          "output_type": "execute_result"
        }
      ],
      "source": [
        "# 11. Read the parquet formatted data.\n",
        "parquet1_df = spark.read.parquet('home_sales_partitioned')\n",
        "parquet1_df"
      ]
    },
    {
      "cell_type": "code",
      "execution_count": 59,
      "metadata": {
        "id": "J6MJkHfvVcvh"
      },
      "outputs": [],
      "source": [
        "# 12. Create a temporary table for the parquet data.\n",
        "parquet_temp_view = parquet1_df.createOrReplaceTempView('home_sales_parq')\n",
        "parquet_temp_view"
      ]
    },
    {
      "cell_type": "code",
      "execution_count": 62,
      "metadata": {
        "colab": {
          "base_uri": "https://localhost:8080/"
        },
        "id": "G_Vhb52rU1Sn",
        "outputId": "a73bea6c-9794-4509-cecf-0c5c66b41c67"
      },
      "outputs": [
        {
          "name": "stdout",
          "output_type": "stream",
          "text": [
            "+----+--------------------------+\n",
            "|view|avg_homeprice_above_350000|\n",
            "+----+--------------------------+\n",
            "|  85|                1056336.74|\n",
            "|  65|                 736679.93|\n",
            "|  53|                  755214.8|\n",
            "|  78|                1080649.37|\n",
            "|  81|                1053472.79|\n",
            "|  76|                1058802.78|\n",
            "|  91|                1137372.73|\n",
            "|  93|                1026006.06|\n",
            "|  52|                 733780.26|\n",
            "|  86|                1070444.25|\n",
            "|  94|                 1033536.2|\n",
            "|  57|                  734340.5|\n",
            "|  54|                 798684.82|\n",
            "|  96|                1017815.92|\n",
            "|  92|                 970402.55|\n",
            "|  64|                 767036.67|\n",
            "|  61|                 746877.59|\n",
            "|  88|                1031719.35|\n",
            "|  72|                 780914.67|\n",
            "|  55|                 771153.32|\n",
            "+----+--------------------------+\n",
            "only showing top 20 rows\n",
            "\n",
            "--- 0.6140885353088379 seconds ---\n"
          ]
        }
      ],
      "source": [
        "# 13. Run the query that filters out the view ratings with average price of greater than or equal to $350,000\n",
        "# with the parquet DataFrame. Round your average to two decimal places. # Determine the runtime and compare it to the cached version. => The Cached data was faster but not as significantly as the non-cached vs cached. Speed factor advantage comparison for parquet time = 0.3552 / 0.2178 = 1.63 times faster for the Cached.\n",
        "\n",
        "start_time = time.time()\n",
        "\n",
        "query6_p = spark.sql(\"\"\"\n",
        "SELECT view,\n",
        "ROUND(AVG(price),2) AS avg_homeprice_above_350000\n",
        "\n",
        "FROM\n",
        "home_sales_parq\n",
        "\n",
        "GROUP BY\n",
        "view\n",
        "\n",
        "HAVING\n",
        "ROUND(AVG(price),2) >= 350000;\"\"\").show()\n",
        "\n",
        "\n",
        "timer3 = print(\"--- %s seconds ---\" % (time.time() - start_time))\n",
        "\n",
        "timer3   #   0.3552 seconds as Parquet 1st run. Cached was faster at 0.2178. The Cached data was faster but not as significantly as the non-cached vs cached. Speed factor advantage comparison for parquet time = 0.3552 / 0.2178 = 1.63 times faster for the Cached.\n",
        "query6_p"
      ]
    },
    {
      "cell_type": "code",
      "execution_count": null,
      "metadata": {
        "id": "YKwV0u8yyrk2"
      },
      "outputs": [],
      "source": [
        "#My answer isn't legible in GitHub.\n",
        "\n",
        "# Determine the runtime and compare it to the cached version.\n",
        "# => The Cached data was faster but not as significantly as the non-cached vs cached.\n",
        "# Speed factor advantage comparison for parquet time = 0.3552 / 0.2178 = 1.63 times faster for the Cached.\n",
        "\n"
      ]
    },
    {
      "cell_type": "code",
      "execution_count": 65,
      "metadata": {
        "colab": {
          "base_uri": "https://localhost:8080/"
        },
        "id": "hjjYzQGjtbq8",
        "outputId": "37f47f3b-55bf-4dee-ee72-109761590217"
      },
      "outputs": [
        {
          "data": {
            "text/plain": [
              "DataFrame[]"
            ]
          },
          "execution_count": 65,
          "metadata": {},
          "output_type": "execute_result"
        }
      ],
      "source": [
        "# 14. Uncache the home_sales temporary table.\n",
        "spark.sql(\"uncache table home_sales\")"
      ]
    },
    {
      "cell_type": "code",
      "execution_count": 67,
      "metadata": {
        "colab": {
          "base_uri": "https://localhost:8080/"
        },
        "id": "Sy9NBvO7tlmm",
        "outputId": "56fd452c-aa7f-4c63-8d57-dee1dce5427b"
      },
      "outputs": [
        {
          "name": "stdout",
          "output_type": "stream",
          "text": [
            "Cleared - No Data is still cached.\n"
          ]
        }
      ],
      "source": [
        "# 15. Check if the home_sales is no longer cached\n",
        "\n",
        "cache_sanchk = spark.catalog.isCached('home_sales')\n",
        "\n",
        "if cache_sanchk: #=True defaulted ...\n",
        "  print (\"Not Cleared - Data is still cached for a Table\")\n",
        "else:\n",
        "  print(\"Cleared - No Data is still cached.\")"
      ]
    },
    {
      "cell_type": "code",
      "execution_count": null,
      "metadata": {
        "id": "Si-BNruRUGK3"
      },
      "outputs": [],
      "source": []
    }
  ],
  "metadata": {
    "colab": {
      "include_colab_link": true,
      "provenance": []
    },
    "gpuClass": "standard",
    "kernelspec": {
      "display_name": "Python 3 (ipykernel)",
      "language": "python",
      "name": "python3"
    },
    "language_info": {
      "codemirror_mode": {
        "name": "ipython",
        "version": 3
      },
      "file_extension": ".py",
      "mimetype": "text/x-python",
      "name": "python",
      "nbconvert_exporter": "python",
      "pygments_lexer": "ipython3",
      "version": "3.11.3"
    },
    "nteract": {
      "version": "0.28.0"
    }
  },
  "nbformat": 4,
  "nbformat_minor": 0
}
